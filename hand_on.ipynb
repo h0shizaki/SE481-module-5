{
 "cells": [
  {
   "cell_type": "code",
   "execution_count": 30,
   "metadata": {},
   "outputs": [],
   "source": [
    "import seaborn as sns\n",
    "import numpy as np\n",
    "import pandas as pd\n"
   ]
  },
  {
   "cell_type": "code",
   "execution_count": 31,
   "metadata": {},
   "outputs": [],
   "source": [
    "# system_a = np.array([0,1,1,1,1,1,0,0,0,0])\n",
    "# system_b = np.array([1,1,1,0,0,0,0,0,1,1])\n",
    "system_a = np.array([False, True, True, True, True, True, False, False, False, False])\n",
    "system_b = np.array([True, True, True, False, False, False, False, False, True, True])\n",
    "rank_discount = np.array(range(1,11))\n",
    "num_relevant = 5"
   ]
  },
  {
   "cell_type": "markdown",
   "metadata": {},
   "source": [
    "# Workout I"
   ]
  },
  {
   "cell_type": "code",
   "execution_count": 32,
   "metadata": {},
   "outputs": [],
   "source": [
    "precision_a = np.cumsum(system_a)/rank_discount\n",
    "precision_b = np.cumsum(system_b)/rank_discount"
   ]
  },
  {
   "cell_type": "code",
   "execution_count": 33,
   "metadata": {},
   "outputs": [],
   "source": [
    "recall_a = np.cumsum(system_a)/num_relevant\n",
    "recall_b = np.cumsum(system_b)/num_relevant"
   ]
  },
  {
   "cell_type": "code",
   "execution_count": 34,
   "metadata": {},
   "outputs": [
    {
     "data": {
      "text/html": [
       "<div>\n",
       "<style scoped>\n",
       "    .dataframe tbody tr th:only-of-type {\n",
       "        vertical-align: middle;\n",
       "    }\n",
       "\n",
       "    .dataframe tbody tr th {\n",
       "        vertical-align: top;\n",
       "    }\n",
       "\n",
       "    .dataframe thead th {\n",
       "        text-align: right;\n",
       "    }\n",
       "</style>\n",
       "<table border=\"1\" class=\"dataframe\">\n",
       "  <thead>\n",
       "    <tr style=\"text-align: right;\">\n",
       "      <th></th>\n",
       "      <th>precision</th>\n",
       "      <th>recall</th>\n",
       "      <th>method</th>\n",
       "      <th>rank</th>\n",
       "    </tr>\n",
       "  </thead>\n",
       "  <tbody>\n",
       "    <tr>\n",
       "      <th>0</th>\n",
       "      <td>0.000000</td>\n",
       "      <td>0.0</td>\n",
       "      <td>A</td>\n",
       "      <td>1</td>\n",
       "    </tr>\n",
       "    <tr>\n",
       "      <th>1</th>\n",
       "      <td>0.500000</td>\n",
       "      <td>0.2</td>\n",
       "      <td>A</td>\n",
       "      <td>2</td>\n",
       "    </tr>\n",
       "    <tr>\n",
       "      <th>2</th>\n",
       "      <td>0.666667</td>\n",
       "      <td>0.4</td>\n",
       "      <td>A</td>\n",
       "      <td>3</td>\n",
       "    </tr>\n",
       "    <tr>\n",
       "      <th>3</th>\n",
       "      <td>0.750000</td>\n",
       "      <td>0.6</td>\n",
       "      <td>A</td>\n",
       "      <td>4</td>\n",
       "    </tr>\n",
       "    <tr>\n",
       "      <th>4</th>\n",
       "      <td>0.800000</td>\n",
       "      <td>0.8</td>\n",
       "      <td>A</td>\n",
       "      <td>5</td>\n",
       "    </tr>\n",
       "    <tr>\n",
       "      <th>5</th>\n",
       "      <td>0.833333</td>\n",
       "      <td>1.0</td>\n",
       "      <td>A</td>\n",
       "      <td>6</td>\n",
       "    </tr>\n",
       "    <tr>\n",
       "      <th>6</th>\n",
       "      <td>0.714286</td>\n",
       "      <td>1.0</td>\n",
       "      <td>A</td>\n",
       "      <td>7</td>\n",
       "    </tr>\n",
       "    <tr>\n",
       "      <th>7</th>\n",
       "      <td>0.625000</td>\n",
       "      <td>1.0</td>\n",
       "      <td>A</td>\n",
       "      <td>8</td>\n",
       "    </tr>\n",
       "    <tr>\n",
       "      <th>8</th>\n",
       "      <td>0.555556</td>\n",
       "      <td>1.0</td>\n",
       "      <td>A</td>\n",
       "      <td>9</td>\n",
       "    </tr>\n",
       "    <tr>\n",
       "      <th>9</th>\n",
       "      <td>0.500000</td>\n",
       "      <td>1.0</td>\n",
       "      <td>A</td>\n",
       "      <td>10</td>\n",
       "    </tr>\n",
       "    <tr>\n",
       "      <th>0</th>\n",
       "      <td>1.000000</td>\n",
       "      <td>0.2</td>\n",
       "      <td>B</td>\n",
       "      <td>1</td>\n",
       "    </tr>\n",
       "    <tr>\n",
       "      <th>1</th>\n",
       "      <td>1.000000</td>\n",
       "      <td>0.4</td>\n",
       "      <td>B</td>\n",
       "      <td>2</td>\n",
       "    </tr>\n",
       "    <tr>\n",
       "      <th>2</th>\n",
       "      <td>1.000000</td>\n",
       "      <td>0.6</td>\n",
       "      <td>B</td>\n",
       "      <td>3</td>\n",
       "    </tr>\n",
       "    <tr>\n",
       "      <th>3</th>\n",
       "      <td>0.750000</td>\n",
       "      <td>0.6</td>\n",
       "      <td>B</td>\n",
       "      <td>4</td>\n",
       "    </tr>\n",
       "    <tr>\n",
       "      <th>4</th>\n",
       "      <td>0.600000</td>\n",
       "      <td>0.6</td>\n",
       "      <td>B</td>\n",
       "      <td>5</td>\n",
       "    </tr>\n",
       "    <tr>\n",
       "      <th>5</th>\n",
       "      <td>0.500000</td>\n",
       "      <td>0.6</td>\n",
       "      <td>B</td>\n",
       "      <td>6</td>\n",
       "    </tr>\n",
       "    <tr>\n",
       "      <th>6</th>\n",
       "      <td>0.428571</td>\n",
       "      <td>0.6</td>\n",
       "      <td>B</td>\n",
       "      <td>7</td>\n",
       "    </tr>\n",
       "    <tr>\n",
       "      <th>7</th>\n",
       "      <td>0.375000</td>\n",
       "      <td>0.6</td>\n",
       "      <td>B</td>\n",
       "      <td>8</td>\n",
       "    </tr>\n",
       "    <tr>\n",
       "      <th>8</th>\n",
       "      <td>0.444444</td>\n",
       "      <td>0.8</td>\n",
       "      <td>B</td>\n",
       "      <td>9</td>\n",
       "    </tr>\n",
       "    <tr>\n",
       "      <th>9</th>\n",
       "      <td>0.500000</td>\n",
       "      <td>1.0</td>\n",
       "      <td>B</td>\n",
       "      <td>10</td>\n",
       "    </tr>\n",
       "  </tbody>\n",
       "</table>\n",
       "</div>"
      ],
      "text/plain": [
       "   precision  recall method  rank\n",
       "0   0.000000     0.0      A     1\n",
       "1   0.500000     0.2      A     2\n",
       "2   0.666667     0.4      A     3\n",
       "3   0.750000     0.6      A     4\n",
       "4   0.800000     0.8      A     5\n",
       "5   0.833333     1.0      A     6\n",
       "6   0.714286     1.0      A     7\n",
       "7   0.625000     1.0      A     8\n",
       "8   0.555556     1.0      A     9\n",
       "9   0.500000     1.0      A    10\n",
       "0   1.000000     0.2      B     1\n",
       "1   1.000000     0.4      B     2\n",
       "2   1.000000     0.6      B     3\n",
       "3   0.750000     0.6      B     4\n",
       "4   0.600000     0.6      B     5\n",
       "5   0.500000     0.6      B     6\n",
       "6   0.428571     0.6      B     7\n",
       "7   0.375000     0.6      B     8\n",
       "8   0.444444     0.8      B     9\n",
       "9   0.500000     1.0      B    10"
      ]
     },
     "execution_count": 34,
     "metadata": {},
     "output_type": "execute_result"
    }
   ],
   "source": [
    "df_a = pd.DataFrame({'precision': precision_a, 'recall': recall_a, 'method':'A', 'rank': range(1,11)})\n",
    "df_b = pd.DataFrame({'precision': precision_b, 'recall': recall_b, 'method': 'B', 'rank': range(1,11)})\n",
    "# df_a\n",
    "pd.concat([df_a ,df_b])"
   ]
  },
  {
   "cell_type": "code",
   "execution_count": 35,
   "metadata": {},
   "outputs": [
    {
     "data": {
      "text/plain": [
       "<Axes: xlabel='recall', ylabel='precision'>"
      ]
     },
     "execution_count": 35,
     "metadata": {},
     "output_type": "execute_result"
    },
    {
     "data": {
      "image/png": "[encoded data removed]",
      "text/plain": [
       "<Figure size 640x480 with 1 Axes>"
      ]
     },
     "metadata": {},
     "output_type": "display_data"
    }
   ],
   "source": [
    "sns.lineplot(data=pd.concat([df_a, df_b]),hue=\"method\", x=\"recall\", y=\"precision\")\n"
   ]
  },
  {
   "cell_type": "code",
   "execution_count": 36,
   "metadata": {},
   "outputs": [
    {
     "data": {
      "text/plain": [
       "<Axes: xlabel='rank', ylabel='precision'>"
      ]
     },
     "execution_count": 36,
     "metadata": {},
     "output_type": "execute_result"
    },
    {
     "data": {
      "image/png": "[encoded data removed]",
      "text/plain": [
       "<Figure size 640x480 with 1 Axes>"
      ]
     },
     "metadata": {},
     "output_type": "display_data"
    }
   ],
   "source": [
    "sns.lineplot(data=pd.concat([df_a, df_b]),hue=\"method\", x=\"rank\", y=\"precision\")\n"
   ]
  },
  {
   "cell_type": "markdown",
   "metadata": {},
   "source": [
    "# Workout II"
   ]
  },
  {
   "cell_type": "code",
   "execution_count": 37,
   "metadata": {},
   "outputs": [],
   "source": [
    "ap_a = precision_a[system_a].mean()"
   ]
  },
  {
   "cell_type": "code",
   "execution_count": 38,
   "metadata": {},
   "outputs": [],
   "source": [
    "ap_b = precision_b[system_b].mean()"
   ]
  },
  {
   "cell_type": "code",
   "execution_count": 39,
   "metadata": {},
   "outputs": [
    {
     "name": "stdout",
     "output_type": "stream",
     "text": [
      "0.71000000000000007549516567451064474880695343017578125 0.7888888888888889727724063050118274986743927001953125\n"
     ]
    }
   ],
   "source": [
    "from decimal import *\n",
    "print(Decimal(ap_a), Decimal(ap_b))"
   ]
  },
  {
   "cell_type": "markdown",
   "metadata": {},
   "source": [
    "# Workout III"
   ]
  },
  {
   "cell_type": "code",
   "execution_count": 40,
   "metadata": {},
   "outputs": [
    {
     "data": {
      "text/plain": [
       "{'ideal': 7.684818934934552, 'A': 5.684818934934552, 'B': 6.823465818787765}"
      ]
     },
     "execution_count": 40,
     "metadata": {},
     "output_type": "execute_result"
    }
   ],
   "source": [
    "# Given bug ranking orders\n",
    "# bug_ranking_A = [\"Minor\", \"Critical\", \"Critical\", \"Critical\", \"Critical\", \"Minor\", \"Critical\", \"Minor\", \"Minor\", \"Minor\"]\n",
    "# bug_ranking_B = [\"Critical\", \"Critical\", \"Critical\", \"Minor\", \"Minor\", \"Minor\", \"Minor\", \"Critical\", \"Critical\", \"Minor\"]\n",
    "\n",
    "# Relevance scores mapping\n",
    "# relevance_mapping = {\"Critical\": 3, \"Major\": 2, \"Minor\": 1}\n",
    "ideal = [3,3,3,3,3]\n",
    "report_a = [1, 3, 3, 3, 3, 1, 3, 1, 1, 1]\n",
    "report_b = [3, 3, 3, 1, 1, 1, 1, 3, 3, 1]\n",
    "\n",
    "DCG_ideal = 0\n",
    "DCG_A = 0\n",
    "DCG_B = 0\n",
    "\n",
    "for num in range(1,5):\n",
    "    division = np.log2(num+1)\n",
    "    DCG_ideal += np.divide(ideal[num-1], division) \n",
    "    DCG_A +=  np.divide(report_a[num-1], division) \n",
    "    DCG_B +=  np.divide(report_b[num-1], division) \n",
    "\n",
    "DCG = {'ideal': DCG_ideal, 'A': DCG_A, 'B': DCG_B}\n",
    "DCG"
   ]
  }
 ],
 "metadata": {
  "kernelspec": {
   "display_name": "base",
   "language": "python",
   "name": "python3"
  },
  "language_info": {
   "codemirror_mode": {
    "name": "ipython",
    "version": 3
   },
   "file_extension": ".py",
   "mimetype": "text/x-python",
   "name": "python",
   "nbconvert_exporter": "python",
   "pygments_lexer": "ipython3",
   "version": "3.11.5"
  }
 },
 "nbformat": 4,
 "nbformat_minor": 2
}
